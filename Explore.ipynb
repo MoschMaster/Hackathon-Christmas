{
 "cells": [
  {
   "cell_type": "code",
   "execution_count": null,
   "metadata": {},
   "outputs": [],
   "source": [
    "print('Hello world')"
   ]
  },
  {
   "cell_type": "code",
   "execution_count": 11,
   "metadata": {},
   "outputs": [
    {
     "name": "stdout",
     "output_type": "stream",
     "text": [
      "General Parameters: 3 4 2 3 2 10\n",
      "Delivery Data:\n"
     ]
    },
    {
     "data": {
      "text/html": [
       "<div>\n",
       "<style scoped>\n",
       "    .dataframe tbody tr th:only-of-type {\n",
       "        vertical-align: middle;\n",
       "    }\n",
       "\n",
       "    .dataframe tbody tr th {\n",
       "        vertical-align: top;\n",
       "    }\n",
       "\n",
       "    .dataframe thead th {\n",
       "        text-align: right;\n",
       "    }\n",
       "</style>\n",
       "<table border=\"1\" class=\"dataframe\">\n",
       "  <thead>\n",
       "    <tr style=\"text-align: right;\">\n",
       "      <th></th>\n",
       "      <th>Start_Horizontal</th>\n",
       "      <th>Start_Vertical</th>\n",
       "      <th>Finish_Horizontal</th>\n",
       "      <th>Finish_Vertical</th>\n",
       "      <th>Earliest_Start</th>\n",
       "      <th>Latest_Finish</th>\n",
       "    </tr>\n",
       "  </thead>\n",
       "  <tbody>\n",
       "    <tr>\n",
       "      <th>0</th>\n",
       "      <td>3</td>\n",
       "      <td>4</td>\n",
       "      <td>2</td>\n",
       "      <td>3</td>\n",
       "      <td>2</td>\n",
       "      <td>10</td>\n",
       "    </tr>\n",
       "    <tr>\n",
       "      <th>1</th>\n",
       "      <td>0</td>\n",
       "      <td>0</td>\n",
       "      <td>1</td>\n",
       "      <td>3</td>\n",
       "      <td>2</td>\n",
       "      <td>9</td>\n",
       "    </tr>\n",
       "    <tr>\n",
       "      <th>2</th>\n",
       "      <td>1</td>\n",
       "      <td>2</td>\n",
       "      <td>1</td>\n",
       "      <td>0</td>\n",
       "      <td>0</td>\n",
       "      <td>9</td>\n",
       "    </tr>\n",
       "    <tr>\n",
       "      <th>3</th>\n",
       "      <td>2</td>\n",
       "      <td>0</td>\n",
       "      <td>2</td>\n",
       "      <td>2</td>\n",
       "      <td>0</td>\n",
       "      <td>9</td>\n",
       "    </tr>\n",
       "  </tbody>\n",
       "</table>\n",
       "</div>"
      ],
      "text/plain": [
       "   Start_Horizontal  Start_Vertical  Finish_Horizontal  Finish_Vertical  \\\n",
       "0                 3               4                  2                3   \n",
       "1                 0               0                  1                3   \n",
       "2                 1               2                  1                0   \n",
       "3                 2               0                  2                2   \n",
       "\n",
       "   Earliest_Start  Latest_Finish  \n",
       "0               2             10  \n",
       "1               2              9  \n",
       "2               0              9  \n",
       "3               0              9  "
      ]
     },
     "execution_count": 11,
     "metadata": {},
     "output_type": "execute_result"
    }
   ],
   "source": [
    "import pandas as pd\n",
    "\n",
    "# Read the file\n",
    "file_path = 'Datasets/1_Geldermalsen.txt'\n",
    "\n",
    "# Read the general parameters line\n",
    "with open(file_path, 'r') as file:\n",
    "    general_params = file.readline().strip()\n",
    "\n",
    "# Read the rest of the file into a DataFrame\n",
    "df = pd.read_csv(file_path, sep=' ', skiprows=0, header=None)\n",
    "df.columns = ['Start_Horizontal', 'Start_Vertical', 'Finish_Horizontal', 'Finish_Vertical', 'Earliest_Start', 'Latest_Finish']\n",
    "\n",
    "# Displaying the DataFrame\n",
    "print(\"General Parameters:\", general_params)\n",
    "print(\"Delivery Data:\")\n",
    "df"
   ]
  },
  {
   "cell_type": "code",
   "execution_count": 15,
   "metadata": {},
   "outputs": [
    {
     "name": "stdout",
     "output_type": "stream",
     "text": [
      "Optimal Route: ((3, 4, 2, 3), (1, 2, 1, 0), (0, 0, 1, 3), (2, 0, 2, 2))\n",
      "Total Distance: 9\n"
     ]
    }
   ],
   "source": [
    "import pandas as pd\n",
    "from itertools import permutations\n",
    "\n",
    "def calculate_distance(route):\n",
    "    \"\"\"Calculate the total distance of a given route.\"\"\"\n",
    "    distance = 0\n",
    "    for i in range(len(route) - 1):\n",
    "        distance += abs(route[i+1][0] - route[i][0]) + abs(route[i+1][1] - route[i][1])\n",
    "    return distance\n",
    "\n",
    "def find_optimal_route(df):\n",
    "    \"\"\"Find an approximate optimal route for the elf.\"\"\"\n",
    "    # Create a list of delivery points\n",
    "    delivery_points = [(row['Start_Horizontal'], row['Start_Vertical'], row['Finish_Horizontal'], row['Finish_Vertical']) for _, row in df.iterrows()]\n",
    "\n",
    "    # Calculate all possible permutations of the delivery points\n",
    "    all_routes = permutations(delivery_points)\n",
    "\n",
    "    # Find the route with the shortest distance\n",
    "    shortest_distance = float('inf')\n",
    "    optimal_route = None\n",
    "    for route in all_routes:\n",
    "        distance = calculate_distance(route)\n",
    "        if distance < shortest_distance:\n",
    "            shortest_distance = distance\n",
    "            optimal_route = route\n",
    "\n",
    "    return optimal_route, shortest_distance\n",
    "\n",
    "# Example usage\n",
    "# df = pd.DataFrame(...)  # Your DataFrame here\n",
    "optimal_route, distance = find_optimal_route(df)\n",
    "print(\"Optimal Route:\", optimal_route)\n",
    "print(\"Total Distance:\", distance)\n"
   ]
  }
 ],
 "metadata": {
  "kernelspec": {
   "display_name": "myEnv",
   "language": "python",
   "name": "python3"
  },
  "language_info": {
   "codemirror_mode": {
    "name": "ipython",
    "version": 3
   },
   "file_extension": ".py",
   "mimetype": "text/x-python",
   "name": "python",
   "nbconvert_exporter": "python",
   "pygments_lexer": "ipython3",
   "version": "3.9.13"
  }
 },
 "nbformat": 4,
 "nbformat_minor": 2
}
